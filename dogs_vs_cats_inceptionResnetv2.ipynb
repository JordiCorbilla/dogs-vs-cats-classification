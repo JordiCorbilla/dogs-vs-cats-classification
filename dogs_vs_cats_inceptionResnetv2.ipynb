{
 "cells": [
  {
   "cell_type": "markdown",
   "id": "00a039d2-078e-4909-8819-a69b1d32e250",
   "metadata": {},
   "source": [
    "# Dogs vs. Cats Image Classification Using Convolutional Neural Networks (InceptionResNetV2)¶\n",
    "\n",
    "Download the Dogs vs Cats image catalog from Kaggle here : https://www.kaggle.com/competitions/dogs-vs-cats/data\n"
   ]
  },
  {
   "cell_type": "code",
   "execution_count": null,
   "id": "67f64cc0-33c3-4b35-bbfb-10b5ccb92cb4",
   "metadata": {},
   "outputs": [],
   "source": []
  }
 ],
 "metadata": {
  "kernelspec": {
   "display_name": "Python 3 (ipykernel)",
   "language": "python",
   "name": "python3"
  },
  "language_info": {
   "codemirror_mode": {
    "name": "ipython",
    "version": 3
   },
   "file_extension": ".py",
   "mimetype": "text/x-python",
   "name": "python",
   "nbconvert_exporter": "python",
   "pygments_lexer": "ipython3",
   "version": "3.9.19"
  }
 },
 "nbformat": 4,
 "nbformat_minor": 5
}
