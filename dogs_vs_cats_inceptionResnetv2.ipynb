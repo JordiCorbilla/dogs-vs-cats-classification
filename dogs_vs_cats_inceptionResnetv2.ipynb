{
 "cells": [
  {
   "cell_type": "markdown",
   "id": "00a039d2-078e-4909-8819-a69b1d32e250",
   "metadata": {},
   "source": [
    "# Dogs vs. Cats Image Classification Using Convolutional Neural Networks (InceptionResNetV2)¶\n",
    "\n",
    "Download the Dogs vs Cats image catalog from Kaggle here : https://www.kaggle.com/competitions/dogs-vs-cats/data\n",
    "\n",
    "Follow the steps below:"
   ]
  },
  {
   "cell_type": "markdown",
   "id": "e54493bc-3288-43dd-9942-dbd834d07166",
   "metadata": {},
   "source": [
    "## Dataset"
   ]
  },
  {
   "attachments": {
    "742b2520-bd2d-49e4-b68a-6e3e285f32dc.png": {
     "image/png": "[encoded data removed]"
    }
   },
   "cell_type": "markdown",
   "id": "b29a6b24-0a72-422d-97d1-814e0c69eabf",
   "metadata": {},
   "source": [
    "Unzip the dataset in your downloads folder as shown in the image below:\n",
    "\n",
    "![image.png](attachment:742b2520-bd2d-49e4-b68a-6e3e285f32dc.png)"
   ]
  },
  {
   "cell_type": "markdown",
   "id": "98897710-9f53-42e7-8b6c-6681ac697097",
   "metadata": {},
   "source": [
    "## Imports"
   ]
  },
  {
   "cell_type": "code",
   "execution_count": 7,
   "id": "6c3147fc-9180-4358-a75f-a4804027ec1a",
   "metadata": {},
   "outputs": [],
   "source": [
    "import os\n",
    "import numpy as np\n",
    "import matplotlib.pyplot as plt\n",
    "import tensorflow as tf\n",
    "from tensorflow.keras.preprocessing.image import ImageDataGenerator\n",
    "from tensorflow.keras.applications import InceptionResNetV2\n",
    "from tensorflow.keras.applications.inception_resnet_v2 import preprocess_input\n",
    "from tensorflow.keras.models import Model, load_model\n",
    "from tensorflow.keras.layers import Dense, GlobalAveragePooling2D, Dropout\n",
    "from tensorflow.keras.callbacks import EarlyStopping, ModelCheckpoint\n",
    "from sklearn.metrics import classification_report, confusion_matrix\n",
    "from sklearn.model_selection import train_test_split\n",
    "import seaborn as sns\n",
    "import pandas as pd\n",
    "import shutil\n",
    "import random"
   ]
  },
  {
   "cell_type": "code",
   "execution_count": 5,
   "id": "efd75efd-19c1-4ba7-87a7-523a3ffdbfdd",
   "metadata": {},
   "outputs": [],
   "source": [
    "data_dir = 'C:\\\\Users\\\\jordi\\\\Downloads\\\\dogs-vs-cats'\n",
    "train_dir = os.path.join(data_dir, 'Train')\n",
    "validation_dir = os.path.join(data_dir, 'Validation')"
   ]
  },
  {
   "cell_type": "markdown",
   "id": "ccc3090d-42b6-49ee-8fa7-8e30d88f236c",
   "metadata": {},
   "source": [
    "## Copy images to a local directory"
   ]
  },
  {
   "cell_type": "code",
   "execution_count": 6,
   "id": "f3aa32ac-ae15-476d-80fd-789975795701",
   "metadata": {},
   "outputs": [],
   "source": [
    "# local directory `data`\n",
    "base_dir = 'data'  \n",
    "train_dir_new = os.path.join(base_dir, 'train')\n",
    "os.makedirs(train_dir_new, exist_ok=True)\n",
    "\n",
    "train_cats_dir = os.path.join(train_dir_new, 'cats')\n",
    "train_dogs_dir = os.path.join(train_dir_new, 'dogs')\n",
    "os.makedirs(train_cats_dir, exist_ok=True)\n",
    "os.makedirs(train_dogs_dir, exist_ok=True)\n",
    "\n",
    "all_images = os.listdir(train_dir)\n",
    "\n",
    "cat_images = [img for img in all_images if img.startswith('cat')]\n",
    "dog_images = [img for img in all_images if img.startswith('dog')]\n",
    "\n",
    "def copy_images(image_list, source_dir, dest_dir):\n",
    "    for img in image_list:\n",
    "        src = os.path.join(source_dir, img)\n",
    "        dst = os.path.join(dest_dir, img)\n",
    "        shutil.copyfile(src, dst)\n",
    "\n",
    "copy_images(cat_images, train_dir, train_cats_dir)\n",
    "copy_images(dog_images, train_dir, train_dogs_dir)"
   ]
  },
  {
   "cell_type": "markdown",
   "id": "795cd05b-c320-49ed-aef1-9a2023b001ad",
   "metadata": {},
   "source": [
    "## Geneare Training and Validation data split 70/30"
   ]
  },
  {
   "cell_type": "code",
   "execution_count": 8,
   "id": "ab05b177-d7dc-4a51-9051-fb761bebf21b",
   "metadata": {},
   "outputs": [],
   "source": [
    "train_cats, val_cats = train_test_split(os.listdir(train_cats_dir), test_size=0.3, random_state=42)\n",
    "train_dogs, val_dogs = train_test_split(os.listdir(train_dogs_dir), test_size=0.3, random_state=42)\n",
    "\n",
    "validation_dir_new = os.path.join(base_dir, 'validation')\n",
    "os.makedirs(validation_dir_new, exist_ok=True)\n",
    "validation_cats_dir = os.path.join(validation_dir_new, 'cats')\n",
    "validation_dogs_dir = os.path.join(validation_dir_new, 'dogs')\n",
    "os.makedirs(validation_cats_dir, exist_ok=True)\n",
    "os.makedirs(validation_dogs_dir, exist_ok=True)\n",
    "\n",
    "def move_images(image_list, source_dir, dest_dir):\n",
    "    for img in image_list:\n",
    "        src = os.path.join(source_dir, img)\n",
    "        dst = os.path.join(dest_dir, img)\n",
    "        shutil.move(src, dst)\n",
    "\n",
    "move_images(val_cats, train_cats_dir, validation_cats_dir)\n",
    "move_images(val_dogs, train_dogs_dir, validation_dogs_dir)"
   ]
  },
  {
   "cell_type": "code",
   "execution_count": null,
   "id": "2996ee7c-7292-4cda-92b0-683a5faa2c6d",
   "metadata": {},
   "outputs": [],
   "source": []
  }
 ],
 "metadata": {
  "kernelspec": {
   "display_name": "Python 3 (ipykernel)",
   "language": "python",
   "name": "python3"
  },
  "language_info": {
   "codemirror_mode": {
    "name": "ipython",
    "version": 3
   },
   "file_extension": ".py",
   "mimetype": "text/x-python",
   "name": "python",
   "nbconvert_exporter": "python",
   "pygments_lexer": "ipython3",
   "version": "3.9.19"
  }
 },
 "nbformat": 4,
 "nbformat_minor": 5
}
